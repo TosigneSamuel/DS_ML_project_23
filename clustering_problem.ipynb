{
  "nbformat": 4,
  "nbformat_minor": 0,
  "metadata": {
    "colab": {
      "provenance": []
    },
    "kernelspec": {
      "name": "python3",
      "display_name": "Python 3"
    },
    "language_info": {
      "name": "python"
    }
  },
  "cells": [
    {
      "cell_type": "markdown",
      "source": [
        "### Apply two clustering algorithms on a selected dataset"
      ],
      "metadata": {
        "id": "Cfnl1aLDN0mC"
      }
    },
    {
      "cell_type": "markdown",
      "source": [
        "**K-Means Clustering**"
      ],
      "metadata": {
        "id": "_-jR0fP4W4FL"
      }
    },
    {
      "cell_type": "markdown",
      "source": [
        "\n",
        "\n",
        "```\n",
        "# Libraries Import\n",
        "```\n",
        "\n"
      ],
      "metadata": {
        "id": "EtuoJ5GdNo4A"
      }
    },
    {
      "cell_type": "code",
      "execution_count": 46,
      "metadata": {
        "id": "4U4NlRiK5OZP"
      },
      "outputs": [],
      "source": [
        "import numpy as np\n",
        "import seaborn as sns\n",
        "import matplotlib.pyplot as plt\n",
        "import pandas as pd"
      ]
    },
    {
      "cell_type": "code",
      "source": [
        "import os\n",
        "os.environ[\"OMP_NUM_THREADS\"]=\"1\""
      ],
      "metadata": {
        "id": "F9r3okoAOCTF"
      },
      "execution_count": 47,
      "outputs": []
    },
    {
      "cell_type": "markdown",
      "source": [
        "\n",
        "\n",
        "```\n",
        "# Dataset Import\n",
        "```\n",
        "\n"
      ],
      "metadata": {
        "id": "zbEG9QjFOfH-"
      }
    },
    {
      "cell_type": "code",
      "source": [
        "ds = pd.read_csv(\"bed-nets-and-illness-by-county-csv-1.csv\")"
      ],
      "metadata": {
        "id": "kS5agvEvOJtk"
      },
      "execution_count": 48,
      "outputs": []
    },
    {
      "cell_type": "markdown",
      "source": [
        "\n",
        "\n",
        "```\n",
        "# Exploring dF\n",
        "```\n",
        "\n"
      ],
      "metadata": {
        "id": "hUSJYvTwPXP7"
      }
    },
    {
      "cell_type": "code",
      "source": [
        "ds.tail()"
      ],
      "metadata": {
        "colab": {
          "base_uri": "https://localhost:8080/",
          "height": 270
        },
        "id": "yslbbEQXPSy_",
        "outputId": "159adc8d-8fd0-46f4-c1b6-41cd3e3d6f07"
      },
      "execution_count": 49,
      "outputs": [
        {
          "output_type": "execute_result",
          "data": {
            "text/plain": [
              "    objectid name_of_county  percentagethat_slept_under_a_be  \\\n",
              "42        43        TURKANA                              6.0   \n",
              "43        44    UASIN-GISHU                             33.6   \n",
              "44        45         VIHIGA                             28.5   \n",
              "45        46          WAJIR                             18.3   \n",
              "46        47     WEST POKOT                             15.9   \n",
              "\n",
              "    percentage_that_had_a_fever_or_  heath_spending_per_person  \n",
              "42                             55.4                         14  \n",
              "43                             43.4                         13  \n",
              "44                             33.4                         10  \n",
              "45                             54.8                         21  \n",
              "46                             60.4                         24  "
            ],
            "text/html": [
              "\n",
              "  <div id=\"df-f50f8b3c-1b44-4ccd-9d51-aacc34213d47\">\n",
              "    <div class=\"colab-df-container\">\n",
              "      <div>\n",
              "<style scoped>\n",
              "    .dataframe tbody tr th:only-of-type {\n",
              "        vertical-align: middle;\n",
              "    }\n",
              "\n",
              "    .dataframe tbody tr th {\n",
              "        vertical-align: top;\n",
              "    }\n",
              "\n",
              "    .dataframe thead th {\n",
              "        text-align: right;\n",
              "    }\n",
              "</style>\n",
              "<table border=\"1\" class=\"dataframe\">\n",
              "  <thead>\n",
              "    <tr style=\"text-align: right;\">\n",
              "      <th></th>\n",
              "      <th>objectid</th>\n",
              "      <th>name_of_county</th>\n",
              "      <th>percentagethat_slept_under_a_be</th>\n",
              "      <th>percentage_that_had_a_fever_or_</th>\n",
              "      <th>heath_spending_per_person</th>\n",
              "    </tr>\n",
              "  </thead>\n",
              "  <tbody>\n",
              "    <tr>\n",
              "      <th>42</th>\n",
              "      <td>43</td>\n",
              "      <td>TURKANA</td>\n",
              "      <td>6.0</td>\n",
              "      <td>55.4</td>\n",
              "      <td>14</td>\n",
              "    </tr>\n",
              "    <tr>\n",
              "      <th>43</th>\n",
              "      <td>44</td>\n",
              "      <td>UASIN-GISHU</td>\n",
              "      <td>33.6</td>\n",
              "      <td>43.4</td>\n",
              "      <td>13</td>\n",
              "    </tr>\n",
              "    <tr>\n",
              "      <th>44</th>\n",
              "      <td>45</td>\n",
              "      <td>VIHIGA</td>\n",
              "      <td>28.5</td>\n",
              "      <td>33.4</td>\n",
              "      <td>10</td>\n",
              "    </tr>\n",
              "    <tr>\n",
              "      <th>45</th>\n",
              "      <td>46</td>\n",
              "      <td>WAJIR</td>\n",
              "      <td>18.3</td>\n",
              "      <td>54.8</td>\n",
              "      <td>21</td>\n",
              "    </tr>\n",
              "    <tr>\n",
              "      <th>46</th>\n",
              "      <td>47</td>\n",
              "      <td>WEST POKOT</td>\n",
              "      <td>15.9</td>\n",
              "      <td>60.4</td>\n",
              "      <td>24</td>\n",
              "    </tr>\n",
              "  </tbody>\n",
              "</table>\n",
              "</div>\n",
              "      <button class=\"colab-df-convert\" onclick=\"convertToInteractive('df-f50f8b3c-1b44-4ccd-9d51-aacc34213d47')\"\n",
              "              title=\"Convert this dataframe to an interactive table.\"\n",
              "              style=\"display:none;\">\n",
              "        \n",
              "  <svg xmlns=\"http://www.w3.org/2000/svg\" height=\"24px\"viewBox=\"0 0 24 24\"\n",
              "       width=\"24px\">\n",
              "    <path d=\"M0 0h24v24H0V0z\" fill=\"none\"/>\n",
              "    <path d=\"M18.56 5.44l.94 2.06.94-2.06 2.06-.94-2.06-.94-.94-2.06-.94 2.06-2.06.94zm-11 1L8.5 8.5l.94-2.06 2.06-.94-2.06-.94L8.5 2.5l-.94 2.06-2.06.94zm10 10l.94 2.06.94-2.06 2.06-.94-2.06-.94-.94-2.06-.94 2.06-2.06.94z\"/><path d=\"M17.41 7.96l-1.37-1.37c-.4-.4-.92-.59-1.43-.59-.52 0-1.04.2-1.43.59L10.3 9.45l-7.72 7.72c-.78.78-.78 2.05 0 2.83L4 21.41c.39.39.9.59 1.41.59.51 0 1.02-.2 1.41-.59l7.78-7.78 2.81-2.81c.8-.78.8-2.07 0-2.86zM5.41 20L4 18.59l7.72-7.72 1.47 1.35L5.41 20z\"/>\n",
              "  </svg>\n",
              "      </button>\n",
              "      \n",
              "  <style>\n",
              "    .colab-df-container {\n",
              "      display:flex;\n",
              "      flex-wrap:wrap;\n",
              "      gap: 12px;\n",
              "    }\n",
              "\n",
              "    .colab-df-convert {\n",
              "      background-color: #E8F0FE;\n",
              "      border: none;\n",
              "      border-radius: 50%;\n",
              "      cursor: pointer;\n",
              "      display: none;\n",
              "      fill: #1967D2;\n",
              "      height: 32px;\n",
              "      padding: 0 0 0 0;\n",
              "      width: 32px;\n",
              "    }\n",
              "\n",
              "    .colab-df-convert:hover {\n",
              "      background-color: #E2EBFA;\n",
              "      box-shadow: 0px 1px 2px rgba(60, 64, 67, 0.3), 0px 1px 3px 1px rgba(60, 64, 67, 0.15);\n",
              "      fill: #174EA6;\n",
              "    }\n",
              "\n",
              "    [theme=dark] .colab-df-convert {\n",
              "      background-color: #3B4455;\n",
              "      fill: #D2E3FC;\n",
              "    }\n",
              "\n",
              "    [theme=dark] .colab-df-convert:hover {\n",
              "      background-color: #434B5C;\n",
              "      box-shadow: 0px 1px 3px 1px rgba(0, 0, 0, 0.15);\n",
              "      filter: drop-shadow(0px 1px 2px rgba(0, 0, 0, 0.3));\n",
              "      fill: #FFFFFF;\n",
              "    }\n",
              "  </style>\n",
              "\n",
              "      <script>\n",
              "        const buttonEl =\n",
              "          document.querySelector('#df-f50f8b3c-1b44-4ccd-9d51-aacc34213d47 button.colab-df-convert');\n",
              "        buttonEl.style.display =\n",
              "          google.colab.kernel.accessAllowed ? 'block' : 'none';\n",
              "\n",
              "        async function convertToInteractive(key) {\n",
              "          const element = document.querySelector('#df-f50f8b3c-1b44-4ccd-9d51-aacc34213d47');\n",
              "          const dataTable =\n",
              "            await google.colab.kernel.invokeFunction('convertToInteractive',\n",
              "                                                     [key], {});\n",
              "          if (!dataTable) return;\n",
              "\n",
              "          const docLinkHtml = 'Like what you see? Visit the ' +\n",
              "            '<a target=\"_blank\" href=https://colab.research.google.com/notebooks/data_table.ipynb>data table notebook</a>'\n",
              "            + ' to learn more about interactive tables.';\n",
              "          element.innerHTML = '';\n",
              "          dataTable['output_type'] = 'display_data';\n",
              "          await google.colab.output.renderOutput(dataTable, element);\n",
              "          const docLink = document.createElement('div');\n",
              "          docLink.innerHTML = docLinkHtml;\n",
              "          element.appendChild(docLink);\n",
              "        }\n",
              "      </script>\n",
              "    </div>\n",
              "  </div>\n",
              "  "
            ]
          },
          "metadata": {},
          "execution_count": 49
        }
      ]
    },
    {
      "cell_type": "code",
      "source": [
        "ds.head()"
      ],
      "metadata": {
        "colab": {
          "base_uri": "https://localhost:8080/",
          "height": 270
        },
        "id": "GtpXiWUBPgU3",
        "outputId": "abe96537-bfb5-44db-ee25-6ecedf017812"
      },
      "execution_count": 50,
      "outputs": [
        {
          "output_type": "execute_result",
          "data": {
            "text/plain": [
              "   objectid name_of_county  percentagethat_slept_under_a_be  \\\n",
              "0         1        BARINGO                             24.2   \n",
              "1         2          BOMET                             26.3   \n",
              "2         3        BUNGOMA                             27.8   \n",
              "3         4          BUSIA                             40.7   \n",
              "4         5           EMBU                              7.5   \n",
              "\n",
              "   percentage_that_had_a_fever_or_  heath_spending_per_person  \n",
              "0                             14.9                         29  \n",
              "1                             39.5                         20  \n",
              "2                             37.6                         20  \n",
              "3                             42.8                         20  \n",
              "4                              9.4                         48  "
            ],
            "text/html": [
              "\n",
              "  <div id=\"df-2b52e7d9-948b-46f3-a75f-4a1a6ec7118f\">\n",
              "    <div class=\"colab-df-container\">\n",
              "      <div>\n",
              "<style scoped>\n",
              "    .dataframe tbody tr th:only-of-type {\n",
              "        vertical-align: middle;\n",
              "    }\n",
              "\n",
              "    .dataframe tbody tr th {\n",
              "        vertical-align: top;\n",
              "    }\n",
              "\n",
              "    .dataframe thead th {\n",
              "        text-align: right;\n",
              "    }\n",
              "</style>\n",
              "<table border=\"1\" class=\"dataframe\">\n",
              "  <thead>\n",
              "    <tr style=\"text-align: right;\">\n",
              "      <th></th>\n",
              "      <th>objectid</th>\n",
              "      <th>name_of_county</th>\n",
              "      <th>percentagethat_slept_under_a_be</th>\n",
              "      <th>percentage_that_had_a_fever_or_</th>\n",
              "      <th>heath_spending_per_person</th>\n",
              "    </tr>\n",
              "  </thead>\n",
              "  <tbody>\n",
              "    <tr>\n",
              "      <th>0</th>\n",
              "      <td>1</td>\n",
              "      <td>BARINGO</td>\n",
              "      <td>24.2</td>\n",
              "      <td>14.9</td>\n",
              "      <td>29</td>\n",
              "    </tr>\n",
              "    <tr>\n",
              "      <th>1</th>\n",
              "      <td>2</td>\n",
              "      <td>BOMET</td>\n",
              "      <td>26.3</td>\n",
              "      <td>39.5</td>\n",
              "      <td>20</td>\n",
              "    </tr>\n",
              "    <tr>\n",
              "      <th>2</th>\n",
              "      <td>3</td>\n",
              "      <td>BUNGOMA</td>\n",
              "      <td>27.8</td>\n",
              "      <td>37.6</td>\n",
              "      <td>20</td>\n",
              "    </tr>\n",
              "    <tr>\n",
              "      <th>3</th>\n",
              "      <td>4</td>\n",
              "      <td>BUSIA</td>\n",
              "      <td>40.7</td>\n",
              "      <td>42.8</td>\n",
              "      <td>20</td>\n",
              "    </tr>\n",
              "    <tr>\n",
              "      <th>4</th>\n",
              "      <td>5</td>\n",
              "      <td>EMBU</td>\n",
              "      <td>7.5</td>\n",
              "      <td>9.4</td>\n",
              "      <td>48</td>\n",
              "    </tr>\n",
              "  </tbody>\n",
              "</table>\n",
              "</div>\n",
              "      <button class=\"colab-df-convert\" onclick=\"convertToInteractive('df-2b52e7d9-948b-46f3-a75f-4a1a6ec7118f')\"\n",
              "              title=\"Convert this dataframe to an interactive table.\"\n",
              "              style=\"display:none;\">\n",
              "        \n",
              "  <svg xmlns=\"http://www.w3.org/2000/svg\" height=\"24px\"viewBox=\"0 0 24 24\"\n",
              "       width=\"24px\">\n",
              "    <path d=\"M0 0h24v24H0V0z\" fill=\"none\"/>\n",
              "    <path d=\"M18.56 5.44l.94 2.06.94-2.06 2.06-.94-2.06-.94-.94-2.06-.94 2.06-2.06.94zm-11 1L8.5 8.5l.94-2.06 2.06-.94-2.06-.94L8.5 2.5l-.94 2.06-2.06.94zm10 10l.94 2.06.94-2.06 2.06-.94-2.06-.94-.94-2.06-.94 2.06-2.06.94z\"/><path d=\"M17.41 7.96l-1.37-1.37c-.4-.4-.92-.59-1.43-.59-.52 0-1.04.2-1.43.59L10.3 9.45l-7.72 7.72c-.78.78-.78 2.05 0 2.83L4 21.41c.39.39.9.59 1.41.59.51 0 1.02-.2 1.41-.59l7.78-7.78 2.81-2.81c.8-.78.8-2.07 0-2.86zM5.41 20L4 18.59l7.72-7.72 1.47 1.35L5.41 20z\"/>\n",
              "  </svg>\n",
              "      </button>\n",
              "      \n",
              "  <style>\n",
              "    .colab-df-container {\n",
              "      display:flex;\n",
              "      flex-wrap:wrap;\n",
              "      gap: 12px;\n",
              "    }\n",
              "\n",
              "    .colab-df-convert {\n",
              "      background-color: #E8F0FE;\n",
              "      border: none;\n",
              "      border-radius: 50%;\n",
              "      cursor: pointer;\n",
              "      display: none;\n",
              "      fill: #1967D2;\n",
              "      height: 32px;\n",
              "      padding: 0 0 0 0;\n",
              "      width: 32px;\n",
              "    }\n",
              "\n",
              "    .colab-df-convert:hover {\n",
              "      background-color: #E2EBFA;\n",
              "      box-shadow: 0px 1px 2px rgba(60, 64, 67, 0.3), 0px 1px 3px 1px rgba(60, 64, 67, 0.15);\n",
              "      fill: #174EA6;\n",
              "    }\n",
              "\n",
              "    [theme=dark] .colab-df-convert {\n",
              "      background-color: #3B4455;\n",
              "      fill: #D2E3FC;\n",
              "    }\n",
              "\n",
              "    [theme=dark] .colab-df-convert:hover {\n",
              "      background-color: #434B5C;\n",
              "      box-shadow: 0px 1px 3px 1px rgba(0, 0, 0, 0.15);\n",
              "      filter: drop-shadow(0px 1px 2px rgba(0, 0, 0, 0.3));\n",
              "      fill: #FFFFFF;\n",
              "    }\n",
              "  </style>\n",
              "\n",
              "      <script>\n",
              "        const buttonEl =\n",
              "          document.querySelector('#df-2b52e7d9-948b-46f3-a75f-4a1a6ec7118f button.colab-df-convert');\n",
              "        buttonEl.style.display =\n",
              "          google.colab.kernel.accessAllowed ? 'block' : 'none';\n",
              "\n",
              "        async function convertToInteractive(key) {\n",
              "          const element = document.querySelector('#df-2b52e7d9-948b-46f3-a75f-4a1a6ec7118f');\n",
              "          const dataTable =\n",
              "            await google.colab.kernel.invokeFunction('convertToInteractive',\n",
              "                                                     [key], {});\n",
              "          if (!dataTable) return;\n",
              "\n",
              "          const docLinkHtml = 'Like what you see? Visit the ' +\n",
              "            '<a target=\"_blank\" href=https://colab.research.google.com/notebooks/data_table.ipynb>data table notebook</a>'\n",
              "            + ' to learn more about interactive tables.';\n",
              "          element.innerHTML = '';\n",
              "          dataTable['output_type'] = 'display_data';\n",
              "          await google.colab.output.renderOutput(dataTable, element);\n",
              "          const docLink = document.createElement('div');\n",
              "          docLink.innerHTML = docLinkHtml;\n",
              "          element.appendChild(docLink);\n",
              "        }\n",
              "      </script>\n",
              "    </div>\n",
              "  </div>\n",
              "  "
            ]
          },
          "metadata": {},
          "execution_count": 50
        }
      ]
    },
    {
      "cell_type": "code",
      "source": [
        "ds.describe()"
      ],
      "metadata": {
        "colab": {
          "base_uri": "https://localhost:8080/",
          "height": 364
        },
        "id": "cqs2kwc6PlPe",
        "outputId": "cb7cbb7b-229c-4fe4-91ef-ea61579a2f6b"
      },
      "execution_count": 51,
      "outputs": [
        {
          "output_type": "execute_result",
          "data": {
            "text/plain": [
              "        objectid  percentagethat_slept_under_a_be  \\\n",
              "count  47.000000                        47.000000   \n",
              "mean   24.000000                        26.729787   \n",
              "std    13.711309                        14.801174   \n",
              "min     1.000000                         1.700000   \n",
              "25%    12.500000                        12.950000   \n",
              "50%    24.000000                        27.800000   \n",
              "75%    35.500000                        38.450000   \n",
              "max    47.000000                        62.400000   \n",
              "\n",
              "       percentage_that_had_a_fever_or_  heath_spending_per_person  \n",
              "count                        47.000000                  47.000000  \n",
              "mean                         40.180851                  24.042553  \n",
              "std                          15.168154                  11.500392  \n",
              "min                           0.000000                   7.000000  \n",
              "25%                          35.000000                  16.500000  \n",
              "50%                          42.600000                  22.000000  \n",
              "75%                          50.700000                  29.000000  \n",
              "max                          63.300000                  50.000000  "
            ],
            "text/html": [
              "\n",
              "  <div id=\"df-b5ad676c-19d1-46d3-b9d7-3ddf80c635ab\">\n",
              "    <div class=\"colab-df-container\">\n",
              "      <div>\n",
              "<style scoped>\n",
              "    .dataframe tbody tr th:only-of-type {\n",
              "        vertical-align: middle;\n",
              "    }\n",
              "\n",
              "    .dataframe tbody tr th {\n",
              "        vertical-align: top;\n",
              "    }\n",
              "\n",
              "    .dataframe thead th {\n",
              "        text-align: right;\n",
              "    }\n",
              "</style>\n",
              "<table border=\"1\" class=\"dataframe\">\n",
              "  <thead>\n",
              "    <tr style=\"text-align: right;\">\n",
              "      <th></th>\n",
              "      <th>objectid</th>\n",
              "      <th>percentagethat_slept_under_a_be</th>\n",
              "      <th>percentage_that_had_a_fever_or_</th>\n",
              "      <th>heath_spending_per_person</th>\n",
              "    </tr>\n",
              "  </thead>\n",
              "  <tbody>\n",
              "    <tr>\n",
              "      <th>count</th>\n",
              "      <td>47.000000</td>\n",
              "      <td>47.000000</td>\n",
              "      <td>47.000000</td>\n",
              "      <td>47.000000</td>\n",
              "    </tr>\n",
              "    <tr>\n",
              "      <th>mean</th>\n",
              "      <td>24.000000</td>\n",
              "      <td>26.729787</td>\n",
              "      <td>40.180851</td>\n",
              "      <td>24.042553</td>\n",
              "    </tr>\n",
              "    <tr>\n",
              "      <th>std</th>\n",
              "      <td>13.711309</td>\n",
              "      <td>14.801174</td>\n",
              "      <td>15.168154</td>\n",
              "      <td>11.500392</td>\n",
              "    </tr>\n",
              "    <tr>\n",
              "      <th>min</th>\n",
              "      <td>1.000000</td>\n",
              "      <td>1.700000</td>\n",
              "      <td>0.000000</td>\n",
              "      <td>7.000000</td>\n",
              "    </tr>\n",
              "    <tr>\n",
              "      <th>25%</th>\n",
              "      <td>12.500000</td>\n",
              "      <td>12.950000</td>\n",
              "      <td>35.000000</td>\n",
              "      <td>16.500000</td>\n",
              "    </tr>\n",
              "    <tr>\n",
              "      <th>50%</th>\n",
              "      <td>24.000000</td>\n",
              "      <td>27.800000</td>\n",
              "      <td>42.600000</td>\n",
              "      <td>22.000000</td>\n",
              "    </tr>\n",
              "    <tr>\n",
              "      <th>75%</th>\n",
              "      <td>35.500000</td>\n",
              "      <td>38.450000</td>\n",
              "      <td>50.700000</td>\n",
              "      <td>29.000000</td>\n",
              "    </tr>\n",
              "    <tr>\n",
              "      <th>max</th>\n",
              "      <td>47.000000</td>\n",
              "      <td>62.400000</td>\n",
              "      <td>63.300000</td>\n",
              "      <td>50.000000</td>\n",
              "    </tr>\n",
              "  </tbody>\n",
              "</table>\n",
              "</div>\n",
              "      <button class=\"colab-df-convert\" onclick=\"convertToInteractive('df-b5ad676c-19d1-46d3-b9d7-3ddf80c635ab')\"\n",
              "              title=\"Convert this dataframe to an interactive table.\"\n",
              "              style=\"display:none;\">\n",
              "        \n",
              "  <svg xmlns=\"http://www.w3.org/2000/svg\" height=\"24px\"viewBox=\"0 0 24 24\"\n",
              "       width=\"24px\">\n",
              "    <path d=\"M0 0h24v24H0V0z\" fill=\"none\"/>\n",
              "    <path d=\"M18.56 5.44l.94 2.06.94-2.06 2.06-.94-2.06-.94-.94-2.06-.94 2.06-2.06.94zm-11 1L8.5 8.5l.94-2.06 2.06-.94-2.06-.94L8.5 2.5l-.94 2.06-2.06.94zm10 10l.94 2.06.94-2.06 2.06-.94-2.06-.94-.94-2.06-.94 2.06-2.06.94z\"/><path d=\"M17.41 7.96l-1.37-1.37c-.4-.4-.92-.59-1.43-.59-.52 0-1.04.2-1.43.59L10.3 9.45l-7.72 7.72c-.78.78-.78 2.05 0 2.83L4 21.41c.39.39.9.59 1.41.59.51 0 1.02-.2 1.41-.59l7.78-7.78 2.81-2.81c.8-.78.8-2.07 0-2.86zM5.41 20L4 18.59l7.72-7.72 1.47 1.35L5.41 20z\"/>\n",
              "  </svg>\n",
              "      </button>\n",
              "      \n",
              "  <style>\n",
              "    .colab-df-container {\n",
              "      display:flex;\n",
              "      flex-wrap:wrap;\n",
              "      gap: 12px;\n",
              "    }\n",
              "\n",
              "    .colab-df-convert {\n",
              "      background-color: #E8F0FE;\n",
              "      border: none;\n",
              "      border-radius: 50%;\n",
              "      cursor: pointer;\n",
              "      display: none;\n",
              "      fill: #1967D2;\n",
              "      height: 32px;\n",
              "      padding: 0 0 0 0;\n",
              "      width: 32px;\n",
              "    }\n",
              "\n",
              "    .colab-df-convert:hover {\n",
              "      background-color: #E2EBFA;\n",
              "      box-shadow: 0px 1px 2px rgba(60, 64, 67, 0.3), 0px 1px 3px 1px rgba(60, 64, 67, 0.15);\n",
              "      fill: #174EA6;\n",
              "    }\n",
              "\n",
              "    [theme=dark] .colab-df-convert {\n",
              "      background-color: #3B4455;\n",
              "      fill: #D2E3FC;\n",
              "    }\n",
              "\n",
              "    [theme=dark] .colab-df-convert:hover {\n",
              "      background-color: #434B5C;\n",
              "      box-shadow: 0px 1px 3px 1px rgba(0, 0, 0, 0.15);\n",
              "      filter: drop-shadow(0px 1px 2px rgba(0, 0, 0, 0.3));\n",
              "      fill: #FFFFFF;\n",
              "    }\n",
              "  </style>\n",
              "\n",
              "      <script>\n",
              "        const buttonEl =\n",
              "          document.querySelector('#df-b5ad676c-19d1-46d3-b9d7-3ddf80c635ab button.colab-df-convert');\n",
              "        buttonEl.style.display =\n",
              "          google.colab.kernel.accessAllowed ? 'block' : 'none';\n",
              "\n",
              "        async function convertToInteractive(key) {\n",
              "          const element = document.querySelector('#df-b5ad676c-19d1-46d3-b9d7-3ddf80c635ab');\n",
              "          const dataTable =\n",
              "            await google.colab.kernel.invokeFunction('convertToInteractive',\n",
              "                                                     [key], {});\n",
              "          if (!dataTable) return;\n",
              "\n",
              "          const docLinkHtml = 'Like what you see? Visit the ' +\n",
              "            '<a target=\"_blank\" href=https://colab.research.google.com/notebooks/data_table.ipynb>data table notebook</a>'\n",
              "            + ' to learn more about interactive tables.';\n",
              "          element.innerHTML = '';\n",
              "          dataTable['output_type'] = 'display_data';\n",
              "          await google.colab.output.renderOutput(dataTable, element);\n",
              "          const docLink = document.createElement('div');\n",
              "          docLink.innerHTML = docLinkHtml;\n",
              "          element.appendChild(docLink);\n",
              "        }\n",
              "      </script>\n",
              "    </div>\n",
              "  </div>\n",
              "  "
            ]
          },
          "metadata": {},
          "execution_count": 51
        }
      ]
    },
    {
      "cell_type": "code",
      "source": [
        "ds.info()"
      ],
      "metadata": {
        "colab": {
          "base_uri": "https://localhost:8080/"
        },
        "id": "oNIxcVn4Pn9_",
        "outputId": "f0e90e99-cda2-4545-9ff2-9a1ba767e378"
      },
      "execution_count": 52,
      "outputs": [
        {
          "output_type": "stream",
          "name": "stdout",
          "text": [
            "<class 'pandas.core.frame.DataFrame'>\n",
            "RangeIndex: 47 entries, 0 to 46\n",
            "Data columns (total 5 columns):\n",
            " #   Column                           Non-Null Count  Dtype  \n",
            "---  ------                           --------------  -----  \n",
            " 0   objectid                         47 non-null     int64  \n",
            " 1   name_of_county                   47 non-null     object \n",
            " 2   percentagethat_slept_under_a_be  47 non-null     float64\n",
            " 3   percentage_that_had_a_fever_or_  47 non-null     float64\n",
            " 4   heath_spending_per_person        47 non-null     int64  \n",
            "dtypes: float64(2), int64(2), object(1)\n",
            "memory usage: 2.0+ KB\n"
          ]
        }
      ]
    },
    {
      "cell_type": "code",
      "source": [
        "ds.tail()"
      ],
      "metadata": {
        "colab": {
          "base_uri": "https://localhost:8080/",
          "height": 270
        },
        "id": "6VY-JCOjP3ZE",
        "outputId": "4a0e847c-6e8f-4e2b-fdf6-3fc9727f0265"
      },
      "execution_count": 53,
      "outputs": [
        {
          "output_type": "execute_result",
          "data": {
            "text/plain": [
              "    objectid name_of_county  percentagethat_slept_under_a_be  \\\n",
              "42        43        TURKANA                              6.0   \n",
              "43        44    UASIN-GISHU                             33.6   \n",
              "44        45         VIHIGA                             28.5   \n",
              "45        46          WAJIR                             18.3   \n",
              "46        47     WEST POKOT                             15.9   \n",
              "\n",
              "    percentage_that_had_a_fever_or_  heath_spending_per_person  \n",
              "42                             55.4                         14  \n",
              "43                             43.4                         13  \n",
              "44                             33.4                         10  \n",
              "45                             54.8                         21  \n",
              "46                             60.4                         24  "
            ],
            "text/html": [
              "\n",
              "  <div id=\"df-fdbfbc1b-5e02-4873-bfc9-1521d58e93a4\">\n",
              "    <div class=\"colab-df-container\">\n",
              "      <div>\n",
              "<style scoped>\n",
              "    .dataframe tbody tr th:only-of-type {\n",
              "        vertical-align: middle;\n",
              "    }\n",
              "\n",
              "    .dataframe tbody tr th {\n",
              "        vertical-align: top;\n",
              "    }\n",
              "\n",
              "    .dataframe thead th {\n",
              "        text-align: right;\n",
              "    }\n",
              "</style>\n",
              "<table border=\"1\" class=\"dataframe\">\n",
              "  <thead>\n",
              "    <tr style=\"text-align: right;\">\n",
              "      <th></th>\n",
              "      <th>objectid</th>\n",
              "      <th>name_of_county</th>\n",
              "      <th>percentagethat_slept_under_a_be</th>\n",
              "      <th>percentage_that_had_a_fever_or_</th>\n",
              "      <th>heath_spending_per_person</th>\n",
              "    </tr>\n",
              "  </thead>\n",
              "  <tbody>\n",
              "    <tr>\n",
              "      <th>42</th>\n",
              "      <td>43</td>\n",
              "      <td>TURKANA</td>\n",
              "      <td>6.0</td>\n",
              "      <td>55.4</td>\n",
              "      <td>14</td>\n",
              "    </tr>\n",
              "    <tr>\n",
              "      <th>43</th>\n",
              "      <td>44</td>\n",
              "      <td>UASIN-GISHU</td>\n",
              "      <td>33.6</td>\n",
              "      <td>43.4</td>\n",
              "      <td>13</td>\n",
              "    </tr>\n",
              "    <tr>\n",
              "      <th>44</th>\n",
              "      <td>45</td>\n",
              "      <td>VIHIGA</td>\n",
              "      <td>28.5</td>\n",
              "      <td>33.4</td>\n",
              "      <td>10</td>\n",
              "    </tr>\n",
              "    <tr>\n",
              "      <th>45</th>\n",
              "      <td>46</td>\n",
              "      <td>WAJIR</td>\n",
              "      <td>18.3</td>\n",
              "      <td>54.8</td>\n",
              "      <td>21</td>\n",
              "    </tr>\n",
              "    <tr>\n",
              "      <th>46</th>\n",
              "      <td>47</td>\n",
              "      <td>WEST POKOT</td>\n",
              "      <td>15.9</td>\n",
              "      <td>60.4</td>\n",
              "      <td>24</td>\n",
              "    </tr>\n",
              "  </tbody>\n",
              "</table>\n",
              "</div>\n",
              "      <button class=\"colab-df-convert\" onclick=\"convertToInteractive('df-fdbfbc1b-5e02-4873-bfc9-1521d58e93a4')\"\n",
              "              title=\"Convert this dataframe to an interactive table.\"\n",
              "              style=\"display:none;\">\n",
              "        \n",
              "  <svg xmlns=\"http://www.w3.org/2000/svg\" height=\"24px\"viewBox=\"0 0 24 24\"\n",
              "       width=\"24px\">\n",
              "    <path d=\"M0 0h24v24H0V0z\" fill=\"none\"/>\n",
              "    <path d=\"M18.56 5.44l.94 2.06.94-2.06 2.06-.94-2.06-.94-.94-2.06-.94 2.06-2.06.94zm-11 1L8.5 8.5l.94-2.06 2.06-.94-2.06-.94L8.5 2.5l-.94 2.06-2.06.94zm10 10l.94 2.06.94-2.06 2.06-.94-2.06-.94-.94-2.06-.94 2.06-2.06.94z\"/><path d=\"M17.41 7.96l-1.37-1.37c-.4-.4-.92-.59-1.43-.59-.52 0-1.04.2-1.43.59L10.3 9.45l-7.72 7.72c-.78.78-.78 2.05 0 2.83L4 21.41c.39.39.9.59 1.41.59.51 0 1.02-.2 1.41-.59l7.78-7.78 2.81-2.81c.8-.78.8-2.07 0-2.86zM5.41 20L4 18.59l7.72-7.72 1.47 1.35L5.41 20z\"/>\n",
              "  </svg>\n",
              "      </button>\n",
              "      \n",
              "  <style>\n",
              "    .colab-df-container {\n",
              "      display:flex;\n",
              "      flex-wrap:wrap;\n",
              "      gap: 12px;\n",
              "    }\n",
              "\n",
              "    .colab-df-convert {\n",
              "      background-color: #E8F0FE;\n",
              "      border: none;\n",
              "      border-radius: 50%;\n",
              "      cursor: pointer;\n",
              "      display: none;\n",
              "      fill: #1967D2;\n",
              "      height: 32px;\n",
              "      padding: 0 0 0 0;\n",
              "      width: 32px;\n",
              "    }\n",
              "\n",
              "    .colab-df-convert:hover {\n",
              "      background-color: #E2EBFA;\n",
              "      box-shadow: 0px 1px 2px rgba(60, 64, 67, 0.3), 0px 1px 3px 1px rgba(60, 64, 67, 0.15);\n",
              "      fill: #174EA6;\n",
              "    }\n",
              "\n",
              "    [theme=dark] .colab-df-convert {\n",
              "      background-color: #3B4455;\n",
              "      fill: #D2E3FC;\n",
              "    }\n",
              "\n",
              "    [theme=dark] .colab-df-convert:hover {\n",
              "      background-color: #434B5C;\n",
              "      box-shadow: 0px 1px 3px 1px rgba(0, 0, 0, 0.15);\n",
              "      filter: drop-shadow(0px 1px 2px rgba(0, 0, 0, 0.3));\n",
              "      fill: #FFFFFF;\n",
              "    }\n",
              "  </style>\n",
              "\n",
              "      <script>\n",
              "        const buttonEl =\n",
              "          document.querySelector('#df-fdbfbc1b-5e02-4873-bfc9-1521d58e93a4 button.colab-df-convert');\n",
              "        buttonEl.style.display =\n",
              "          google.colab.kernel.accessAllowed ? 'block' : 'none';\n",
              "\n",
              "        async function convertToInteractive(key) {\n",
              "          const element = document.querySelector('#df-fdbfbc1b-5e02-4873-bfc9-1521d58e93a4');\n",
              "          const dataTable =\n",
              "            await google.colab.kernel.invokeFunction('convertToInteractive',\n",
              "                                                     [key], {});\n",
              "          if (!dataTable) return;\n",
              "\n",
              "          const docLinkHtml = 'Like what you see? Visit the ' +\n",
              "            '<a target=\"_blank\" href=https://colab.research.google.com/notebooks/data_table.ipynb>data table notebook</a>'\n",
              "            + ' to learn more about interactive tables.';\n",
              "          element.innerHTML = '';\n",
              "          dataTable['output_type'] = 'display_data';\n",
              "          await google.colab.output.renderOutput(dataTable, element);\n",
              "          const docLink = document.createElement('div');\n",
              "          docLink.innerHTML = docLinkHtml;\n",
              "          element.appendChild(docLink);\n",
              "        }\n",
              "      </script>\n",
              "    </div>\n",
              "  </div>\n",
              "  "
            ]
          },
          "metadata": {},
          "execution_count": 53
        }
      ]
    },
    {
      "cell_type": "code",
      "source": [
        "sns.pairplot(ds.iloc[:,[2,3,4]])"
      ],
      "metadata": {
        "colab": {
          "base_uri": "https://localhost:8080/",
          "height": 568
        },
        "id": "yLaDIgczQRVE",
        "outputId": "eef20937-c404-4866-d246-e86e22234679"
      },
      "execution_count": 54,
      "outputs": [
        {
          "output_type": "execute_result",
          "data": {
            "text/plain": [
              "<seaborn.axisgrid.PairGrid at 0x7f8d81b581c0>"
            ]
          },
          "metadata": {},
          "execution_count": 54
        },
        {
          "output_type": "display_data",
          "data": {
            "text/plain": [
              "<Figure size 540x540 with 12 Axes>"
            ],
            "image/png": "[encoded data removed]"
          },
          "metadata": {
            "needs_background": "light"
          }
        }
      ]
    },
    {
      "cell_type": "markdown",
      "source": [
        "\n",
        "\n",
        "```\n",
        "# Scaling the Dataset\n",
        "```\n",
        "\n"
      ],
      "metadata": {
        "id": "6BUg5dFOQtqk"
      }
    },
    {
      "cell_type": "code",
      "source": [
        "from sklearn.preprocessing import StandardScaler\n",
        "X = ds.iloc[:,[2,3,4]].values\n",
        "sc_X = StandardScaler()\n",
        "x = sc_X.fit_transform(X)"
      ],
      "metadata": {
        "id": "zoqg3Z62Qg1w"
      },
      "execution_count": 55,
      "outputs": []
    },
    {
      "cell_type": "markdown",
      "source": [
        "\n",
        "\n",
        "```\n",
        "# Finding the optimal number of clusters using the elbow method\n",
        "```\n",
        "\n"
      ],
      "metadata": {
        "id": "xGJYNBIfRrxy"
      }
    },
    {
      "cell_type": "code",
      "source": [
        "from sklearn.cluster import KMeans\n",
        "\n",
        "wcss = []\n",
        "for i in range(1,15):\n",
        "  kmeans = KMeans(n_clusters=i,init=\"k-means++\",random_state=42)\n",
        "  kmeans.fit(X)\n",
        "  wcss.append(kmeans.inertia_)\n",
        "plt.plot(range(1,15),wcss)\n",
        "plt.title(\"The Elbow Method\")\n",
        "plt.xlabel(\"Numbers of Clusters\")\n",
        "plt.ylabel(\"WCSS\")\n",
        "plt.show"
      ],
      "metadata": {
        "colab": {
          "base_uri": "https://localhost:8080/",
          "height": 312
        },
        "id": "wWqIQDypR08F",
        "outputId": "f7c6767f-1297-41fd-8d3a-d382eb6258fb"
      },
      "execution_count": 56,
      "outputs": [
        {
          "output_type": "execute_result",
          "data": {
            "text/plain": [
              "<function matplotlib.pyplot.show(*args, **kw)>"
            ]
          },
          "metadata": {},
          "execution_count": 56
        },
        {
          "output_type": "display_data",
          "data": {
            "text/plain": [
              "<Figure size 432x288 with 1 Axes>"
            ],
            "image/png": "[encoded data removed]"
          },
          "metadata": {
            "needs_background": "light"
          }
        }
      ]
    },
    {
      "cell_type": "markdown",
      "source": [
        "\n",
        "\n",
        "```\n",
        "# Fitting K-Means to the Dataset\n",
        "```\n",
        "\n"
      ],
      "metadata": {
        "id": "lxNg1aT3TGXg"
      }
    },
    {
      "cell_type": "code",
      "source": [
        "kmeans = KMeans(n_clusters = 4,init=\"k-means++\",random_state=42)\n",
        "y_kmeans = kmeans.fit_predict(X)"
      ],
      "metadata": {
        "id": "phQO6c82R5VW"
      },
      "execution_count": 77,
      "outputs": []
    },
    {
      "cell_type": "markdown",
      "source": [
        "\n",
        "\n",
        "```\n",
        "# Visualising the Clusters\n",
        "```\n",
        "\n"
      ],
      "metadata": {
        "id": "fVwz9W2eTnn7"
      }
    },
    {
      "cell_type": "code",
      "source": [
        "plt.figsize=(10,10)\n",
        "plt.scatter(X[y_kmeans==0,0], X[y_kmeans==0,1],s=100,c=\"purple\",label=\"Cluster 1\")\n",
        "plt.scatter(X[y_kmeans==1,0], X[y_kmeans==1,1],s=100,c=\"red\",label=\"Cluster 2\")\n",
        "plt.scatter(X[y_kmeans==3,0], X[y_kmeans==3,1],s=100,c=\"orange\",label=\"Cluster 4\")\n",
        "plt.scatter(X[y_kmeans==2,0], X[y_kmeans==2,1],s=100,c=\"green\",label=\"Cluster 3\")\n",
        "plt.scatter(kmeans.cluster_centers_[:,0],kmeans.cluster_centers_[:,1],s=100,c=\"blue\")\n",
        "plt.xlabel(\"% People who Slept Under a Bed_Net\")\n",
        "plt.ylabel(\"% People who had Malaria or Fever\")\n",
        "plt.title(\"Clusters of County\")\n",
        "style = \"true_label\"\n",
        "plt.legend()\n",
        "plt.show()"
      ],
      "metadata": {
        "colab": {
          "base_uri": "https://localhost:8080/",
          "height": 296
        },
        "id": "5wDxMctlTcKE",
        "outputId": "753dfd62-9124-49a9-b38f-56321e2d5a5f"
      },
      "execution_count": 83,
      "outputs": [
        {
          "output_type": "display_data",
          "data": {
            "text/plain": [
              "<Figure size 432x288 with 1 Axes>"
            ],
            "image/png": "[encoded data removed]"
          },
          "metadata": {
            "needs_background": "light"
          }
        }
      ]
    },
    {
      "cell_type": "markdown",
      "source": [
        "**Heirarchical Clustering**"
      ],
      "metadata": {
        "id": "9hoTIVu9XECU"
      }
    },
    {
      "cell_type": "markdown",
      "source": [
        "\n",
        "\n",
        "```\n",
        "# Using a Dendrogram to find the optimal numbers of Clusters\n",
        "```\n",
        "\n"
      ],
      "metadata": {
        "id": "-Fw8dy70XiZZ"
      }
    },
    {
      "cell_type": "code",
      "source": [
        "from seaborn.matrix import dendrogram\n",
        "import scipy.cluster.hierarchy as sch\n",
        "\n",
        "plt.figure(figsize=(15,8))\n",
        "dendrogram = sch.dendrogram(sch.linkage(X,method=\"ward\"))\n",
        "plt.title(\"Dendrogram\")\n",
        "plt.xlabel(\"County\")\n",
        "plt.ylabel(\"Euclidean Distance\")\n",
        "plt.show()"
      ],
      "metadata": {
        "colab": {
          "base_uri": "https://localhost:8080/",
          "height": 367
        },
        "id": "YX9qq2kJV2tz",
        "outputId": "0c040e9d-214f-4d70-c424-655b80a8ef65"
      },
      "execution_count": 84,
      "outputs": [
        {
          "output_type": "display_data",
          "data": {
            "text/plain": [
              "<Figure size 1080x576 with 1 Axes>"
            ],
            "image/png": "[encoded data removed]"
          },
          "metadata": {
            "needs_background": "light"
          }
        }
      ]
    },
    {
      "cell_type": "markdown",
      "source": [
        "If you draw a horizontal line across the dendrogram, the number of vertical lines crossing the line equates to the number of clusters. For example, from the below we could end the clustering process at the point where the Euclidean distance is 12 and this would give us three clusters (one formed of the orange data points, one formed of the green data points, and one formed of the red data points shown on the dendrogram). However, typically we take a horizontal line around halfway down the dendrogram to identify the optimal number of clusters, which in this case gives me four"
      ],
      "metadata": {
        "id": "ASOTuP5zdFRP"
      }
    },
    {
      "cell_type": "markdown",
      "source": [
        "\n",
        "\n",
        "```\n",
        "# Fitting the Heirarchical Clustering to the Dataset\n",
        "```\n",
        "\n"
      ],
      "metadata": {
        "id": "UJYbjAJJdOWY"
      }
    },
    {
      "cell_type": "code",
      "source": [
        "from sklearn.cluster import AgglomerativeClustering\n",
        "hc = AgglomerativeClustering(n_clusters=4,affinity=\"euclidean\",linkage=\"ward\")\n",
        "y_hc = hc.fit_predict(X)"
      ],
      "metadata": {
        "id": "_2pNhm-6actW"
      },
      "execution_count": 60,
      "outputs": []
    },
    {
      "cell_type": "markdown",
      "source": [
        "\n",
        "\n",
        "```\n",
        "# Visualising the Cluster\n",
        "```\n",
        "\n"
      ],
      "metadata": {
        "id": "1RCgicEfdzjS"
      }
    },
    {
      "cell_type": "code",
      "source": [
        "plt.figure(figsize=(5,5))\n",
        "plt.scatter(X[y_hc==0,0],X[y_hc==0,1],s=100,c=\"orange\",label=\"cluster 1\")\n",
        "plt.scatter(X[y_hc==1,0],X[y_hc==1,1],s=100,c=\"purple\",label=\"cluster 2\")\n",
        "plt.scatter(X[y_hc==2,0],X[y_hc==2,1],s=100,c=\"green\",label=\"cluster 3\")\n",
        "plt.scatter(X[y_hc==3,0],X[y_hc==3,1],s=100,c=\"red\",label=\"cluster 4\")\n",
        "plt.title(\"Clusters of County\")\n",
        "plt.xlabel(\"% People who Slept Under a Bed_Net\")\n",
        "plt.ylabel(\"% People who had Malaria or Fever\")\n",
        "plt.legend()\n",
        "plt.show()"
      ],
      "metadata": {
        "colab": {
          "base_uri": "https://localhost:8080/",
          "height": 351
        },
        "id": "0xyqgCAxdyCB",
        "outputId": "3fc03896-1ffb-4e16-e415-55124e7adc8c"
      },
      "execution_count": 79,
      "outputs": [
        {
          "output_type": "display_data",
          "data": {
            "text/plain": [
              "<Figure size 360x360 with 1 Axes>"
            ],
            "image/png": "[encoded data removed]"
          },
          "metadata": {
            "needs_background": "light"
          }
        }
      ]
    },
    {
      "cell_type": "markdown",
      "source": [
        "**DBSCAN**"
      ],
      "metadata": {
        "id": "2TpAog4RhDHt"
      }
    },
    {
      "cell_type": "code",
      "source": [
        "from sklearn.neighbors import NearestNeighbors\n",
        "\n",
        "neighbours = NearestNeighbors(n_neighbors=3)\n",
        "distances,indices=neighbours.fit(X).kneighbors(X)\n",
        "\n",
        "distances = distances[:,1]\n",
        "distances = np.sort(distances,axis=0)\n",
        "plt.plot(distances)"
      ],
      "metadata": {
        "colab": {
          "base_uri": "https://localhost:8080/",
          "height": 282
        },
        "id": "tZhu5Rtwe5Bj",
        "outputId": "17f40488-dbd1-4050-bb1a-f97144c4b975"
      },
      "execution_count": 73,
      "outputs": [
        {
          "output_type": "execute_result",
          "data": {
            "text/plain": [
              "[<matplotlib.lines.Line2D at 0x7f8d80a7e730>]"
            ]
          },
          "metadata": {},
          "execution_count": 73
        },
        {
          "output_type": "display_data",
          "data": {
            "text/plain": [
              "<Figure size 432x288 with 1 Axes>"
            ],
            "image/png": "[encoded data removed]"
          },
          "metadata": {
            "needs_background": "light"
          }
        }
      ]
    },
    {
      "cell_type": "code",
      "source": [
        "from sklearn.cluster import DBSCAN\n",
        "\n",
        "dbscan = DBSCAN(eps=15,min_samples=5)\n",
        "y_dbscan = dbscan.fit_predict(X)"
      ],
      "metadata": {
        "id": "ztRB8fnJh12E"
      },
      "execution_count": 74,
      "outputs": []
    },
    {
      "cell_type": "markdown",
      "source": [
        "\n",
        "\n",
        "```\n",
        "# Inspect the array to identify number of Clusters\n",
        "```\n",
        "\n"
      ],
      "metadata": {
        "id": "jMjGMfpRiZ6C"
      }
    },
    {
      "cell_type": "code",
      "source": [
        "y_dbscan"
      ],
      "metadata": {
        "colab": {
          "base_uri": "https://localhost:8080/"
        },
        "id": "8_Lvrk35iT20",
        "outputId": "c00959f7-bd55-4c72-d7ad-eaef3d52c0d0"
      },
      "execution_count": 75,
      "outputs": [
        {
          "output_type": "execute_result",
          "data": {
            "text/plain": [
              "array([-1,  0,  0,  0, -1,  0,  0,  0,  0, -1,  0,  0,  0,  0,  0,  0, -1,\n",
              "       -1,  0, -1, -1,  0,  0,  0, -1,  0,  0,  0,  0,  0, -1,  0,  0,  0,\n",
              "       -1, -1,  0,  0,  0,  0,  0,  0,  0,  0,  0,  0,  0])"
            ]
          },
          "metadata": {},
          "execution_count": 75
        }
      ]
    },
    {
      "cell_type": "markdown",
      "source": [
        "\n",
        "\n",
        "```\n",
        "# Visualising the Clusters\n",
        "```\n",
        "\n"
      ],
      "metadata": {
        "id": "M26wF_xJinJD"
      }
    },
    {
      "cell_type": "markdown",
      "source": [
        "With DBSCAN, there's no predefined number of clusters. To see how many clusters have been generated, inspect the array of cluster assignments. \n",
        "\n",
        "(Values of -1 indicate those points which haven’t been assigned a cluster as they are considered noise.)"
      ],
      "metadata": {
        "id": "gvXsFePKj3Q1"
      }
    },
    {
      "cell_type": "code",
      "source": [
        "plt.figure(figsize=(5,5))\n",
        "plt.scatter(X[y_dbscan==0,0],X[y_dbscan==0,1],s=100,c=\"orange\",label=\"cluster 1\")\n",
        "plt.scatter(X[y_dbscan==1,0],X[y_dbscan==1,1],s=100,c=\"purple\",label=\"cluster 2\")\n",
        "plt.scatter(X[y_dbscan==2,0],X[y_dbscan==2,1],s=100,c=\"green\",label=\"cluster 3\")\n",
        "plt.scatter(X[y_dbscan==3,0],X[y_dbscan==3,1],s=100,c=\"red\",label=\"cluster 4\")\n",
        "plt.scatter(X[y_dbscan==-1,0],X[y_dbscan==-1,1],s=100,c=\"black\",label=\"Noise\")\n",
        "plt.title(\"Clusters of County\")\n",
        "plt.xlabel(\"% People who Slept Under a Bed_Net\")\n",
        "plt.ylabel(\"% People who had Malaria or Fever\")\n",
        "plt.legend()\n",
        "plt.show()"
      ],
      "metadata": {
        "colab": {
          "base_uri": "https://localhost:8080/",
          "height": 351
        },
        "id": "rzhgz76piizT",
        "outputId": "11594816-588a-4f26-bbb8-7f1946e25ce5"
      },
      "execution_count": 80,
      "outputs": [
        {
          "output_type": "display_data",
          "data": {
            "text/plain": [
              "<Figure size 360x360 with 1 Axes>"
            ],
            "image/png": "[encoded data removed]"
          },
          "metadata": {
            "needs_background": "light"
          }
        }
      ]
    },
    {
      "cell_type": "markdown",
      "source": [
        "Due to the fact that DBSCAN is highly robust to noise (outliers) and inasmuch as it’s effective for clustering involving density-based metrics, it was not found to be particularly suitable for this dataset, because there weren’t just enough data points for the clustering method to be a density-based one."
      ],
      "metadata": {
        "id": "jREXXfdFkO8f"
      }
    },
    {
      "cell_type": "code",
      "source": [],
      "metadata": {
        "id": "6nbGi1D2jMy3"
      },
      "execution_count": 65,
      "outputs": []
    }
  ]
}